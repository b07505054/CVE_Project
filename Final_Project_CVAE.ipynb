{
  "nbformat": 4,
  "nbformat_minor": 0,
  "metadata": {
    "colab": {
      "provenance": [],
      "gpuType": "T4"
    },
    "kernelspec": {
      "name": "python3",
      "display_name": "Python 3"
    },
    "language_info": {
      "name": "python"
    },
    "accelerator": "GPU"
  },
  "cells": [
    {
      "cell_type": "code",
      "execution_count": 1,
      "metadata": {
        "colab": {
          "base_uri": "https://localhost:8080/"
        },
        "id": "mYswlms8omnw",
        "outputId": "2bb53c28-dc54-47c5-e079-071d1fff59bd"
      },
      "outputs": [
        {
          "output_type": "stream",
          "name": "stdout",
          "text": [
            "Cloning into 'multi-object-datasets'...\n",
            "remote: Enumerating objects: 277, done.\u001b[K\n",
            "remote: Counting objects: 100% (33/33), done.\u001b[K\n",
            "remote: Compressing objects: 100% (10/10), done.\u001b[K\n",
            "remote: Total 277 (delta 25), reused 23 (delta 23), pack-reused 244 (from 1)\u001b[K\n",
            "Receiving objects: 100% (277/277), 40.40 MiB | 17.84 MiB/s, done.\n",
            "Resolving deltas: 100% (143/143), done.\n"
          ]
        }
      ],
      "source": [
        "!git clone https://github.com/addtt/multi-object-datasets.git\n",
        "new_directory = \"/content/multi-object-datasets\"\n",
        "import os\n",
        "if not os.path.exists(new_directory):\n",
        "    print(\"fail\")\n",
        "os.chdir(new_directory)"
      ]
    },
    {
      "cell_type": "markdown",
      "source": [
        "Training Process\n",
        "\n",
        "Input Data."
      ],
      "metadata": {
        "id": "hgEbG-DLNGsJ"
      }
    },
    {
      "cell_type": "code",
      "source": [
        "from torch.utils.data import Dataset, DataLoader\n",
        "import numpy as np\n",
        "import torch\n",
        "import torch.nn as nn\n",
        "import torch.nn.functional as F\n",
        "class CostomizeMultiObjectDataset(Dataset):\n",
        "  def __init__(self, data_path, train, split=0.9, max_samples=None):\n",
        "    super().__init__()\n",
        "    data = np.load(data_path, allow_pickle=True)\n",
        "    self.images = np.asarray(data['x'], dtype=np.float32) / 255\n",
        "    self.images = np.transpose(self.images, [0, 3, 1, 2])  # [N, 3, 64, 64]\n",
        "    total_samples = len(self.images)\n",
        "    if max_samples is not None:\n",
        "        total_samples = min(max_samples, total_samples)\n",
        "        self.images = self.images[:total_samples]\n",
        "    split_idx = int(split * total_samples)\n",
        "    if train:\n",
        "        self.indices = list(range(split_idx))\n",
        "    else:\n",
        "        self.indices = list(range(split_idx, total_samples))\n",
        "    self.images = torch.from_numpy(self.images[self.indices])\n",
        "\n",
        "  def __getitem__(self, index):\n",
        "    img = self.images[index]  # [3, 64, 64]\n",
        "    condition = img[:, :, 32:33].reshape(-1)  # [192]\n",
        "    target = img  # [3, 64, 64]\n",
        "    return condition, target\n",
        "\n",
        "  def __len__(self):\n",
        "    return len(self.indices)\n",
        "def custom_collate_fn(batch):\n",
        "  conditions = torch.stack([item[0] for item in batch])  # [batch_size, 192]\n",
        "  targets = torch.stack([item[1] for item in batch])     # [batch_size, 3, 64, 64]\n",
        "  return conditions, targets"
      ],
      "metadata": {
        "id": "b7UinUSfrK5B"
      },
      "execution_count": 2,
      "outputs": []
    },
    {
      "cell_type": "code",
      "source": [
        "from multiobject.pytorch import MultiObjectDataLoader, MultiObjectDataset\n",
        "batch_size = 32\n",
        "dataset_path = '/content/multi-object-datasets/generated/dsprites/multi_dsprites_color_012.npz'\n",
        "# train_set = MultiObjectDataset(dataset_path, train=True)\n",
        "\n",
        "train_set = CostomizeMultiObjectDataset(dataset_path, train=True, max_samples=6000)\n",
        "test_set = CostomizeMultiObjectDataset(dataset_path, train=False, max_samples=1000)\n",
        "\n",
        "train_loader = DataLoader(train_set, batch_size=batch_size, shuffle=True, collate_fn=custom_collate_fn)\n",
        "test_loader = DataLoader(test_set, batch_size=batch_size, shuffle=False, collate_fn=custom_collate_fn)"
      ],
      "metadata": {
        "id": "BrjMyjj0owtn"
      },
      "execution_count": 3,
      "outputs": []
    },
    {
      "cell_type": "code",
      "source": [
        "# import matplotlib.pyplot as plt\n",
        "\n",
        "# for i, batch in enumerate(train_loader):\n",
        "#     if(i >= 20):\n",
        "#       break\n",
        "#     images, labels = batch\n",
        "#     # print(\"Image\", images)\n",
        "#     # print(\"Labels:\", labels)\n",
        "\n",
        "#     image = images[0]\n",
        "\n",
        "#     if len(image.shape) == 3:\n",
        "#         image = image.permute(1, 2, 0)\n",
        "#     image = image.numpy()\n",
        "#     print(image.shape)\n",
        "#     print(labels['shape'].shape)\n",
        "#     plt.imshow(image)\n",
        "#     plt.axis('off')\n",
        "#     plt.show()\n",
        "#     break"
      ],
      "metadata": {
        "id": "Ok7rBWI7uiJr"
      },
      "execution_count": 4,
      "outputs": []
    },
    {
      "cell_type": "markdown",
      "source": [
        "Encoder"
      ],
      "metadata": {
        "id": "Y56R4qZmNIVZ"
      }
    },
    {
      "cell_type": "code",
      "source": [
        "import torch.nn as nn\n",
        "import torch\n",
        "import torch.nn.functional as F\n",
        "class Encoder(nn.Module):\n",
        "  def __init__(self, latent_dim=20, condition_dim=192):\n",
        "    super(Encoder, self).__init__()\n",
        "\n",
        "    self.conv1 = nn.Conv2d(3, 64, kernel_size=4, stride=2, padding=1)\n",
        "    self.bn1 = nn.BatchNorm2d(64)\n",
        "\n",
        "    self.conv2 = nn.Conv2d(64, 128, kernel_size=4, stride=2, padding=1)\n",
        "    self.bn2 = nn.BatchNorm2d(128)\n",
        "\n",
        "    self.conv3 = nn.Conv2d(128, 256, kernel_size=4, stride=2, padding=1)\n",
        "    self.bn3 = nn.BatchNorm2d(256)\n",
        "    self.condition_conv = nn.Conv2d(condition_dim, 128, kernel_size=1, stride=1, padding=0)\n",
        "\n",
        "    self.conv4 = nn.Conv2d(256, 512, kernel_size=4, stride=2, padding=1)\n",
        "    self.bn4 = nn.BatchNorm2d(512)\n",
        "\n",
        "    self.conv5 = nn.Conv2d(512, 1024, kernel_size=4, stride=1, padding=0)\n",
        "    self.bn5 = nn.BatchNorm2d(1024)\n",
        "\n",
        "    self.conv6 = nn.Conv2d(1024, 512, kernel_size=1, stride=1, padding=0)\n",
        "    self.bn6 = nn.BatchNorm2d(512)\n",
        "\n",
        "    self.fc_mu = nn.Linear(512 + condition_dim, latent_dim)\n",
        "    self.fc_logvar = nn.Linear(512 + condition_dim, latent_dim)\n",
        "    # Dropout\n",
        "    self.dropout = nn.Dropout(p=0.2)\n",
        "\n",
        "  def forward(self, img, condition):\n",
        "    # img: [batch, 3, 64, 64], condition: [batch, 192]\n",
        "    x = F.relu(self.bn1(self.conv1(img)))  # [batch, 64, 32, 32]\n",
        "    x = F.relu(self.bn2(self.conv2(x)))    # [batch, 128, 16, 16]\n",
        "\n",
        "\n",
        "    condition_map = condition.unsqueeze(-1).unsqueeze(-1)  # [batch, 192] -> [batch, 192, 1, 1]\n",
        "    condition_map = self.condition_conv(condition_map)     # [batch, 128, 1, 1]\n",
        "    condition_map = condition_map.expand(-1, -1, 16, 16)   # [batch, 128, 16, 16]，\n",
        "    x = x + condition_map\n",
        "    x = F.relu(self.bn3(self.conv3(x)))     # [batch, 256, 8, 8]\n",
        "\n",
        "    x = F.relu(self.bn4(self.conv4(x)))     # [batch, 512, 4, 4]\n",
        "    x = F.relu(self.bn5(self.conv5(x)))     # [batch, 1024, 1, 1]\n",
        "    x = F.relu(self.bn6(self.conv6(x)))     # [batch, 512, 1, 1]\n",
        "\n",
        "    x = x.view(x.size(0), -1)  # [batch, 512]\n",
        "    x = self.dropout(x)\n",
        "    x = torch.cat([x, condition], dim=-1)   # [batch, 512 + 192]\n",
        "    mu = self.fc_mu(x)  # [batch, 20]\n",
        "    logvar = self.fc_logvar(x)  # [batch, 20]\n",
        "    return mu, logvar"
      ],
      "metadata": {
        "id": "M2JqNLtQMg9F"
      },
      "execution_count": 5,
      "outputs": []
    },
    {
      "cell_type": "markdown",
      "source": [
        "Decoder"
      ],
      "metadata": {
        "id": "uVgV3qvbyOlQ"
      }
    },
    {
      "cell_type": "code",
      "source": [
        "class Decoder(nn.Module):\n",
        "  def __init__(self, latent_dim=20, condition_dim=192):\n",
        "    super(Decoder, self).__init__()\n",
        "    self.fc = nn.Linear(latent_dim + condition_dim, 1024 * 4 * 4)\n",
        "    self.bn0 = nn.BatchNorm2d(1024)\n",
        "    self.conv_trans1 = nn.ConvTranspose2d(1024, 512, kernel_size=4, stride=2, padding=1)\n",
        "    self.bn1 = nn.BatchNorm2d(512)\n",
        "    self.conv_trans2 = nn.ConvTranspose2d(512, 256, kernel_size=4, stride=2, padding=1)\n",
        "    self.bn2 = nn.BatchNorm2d(256)\n",
        "    self.conv_trans3 = nn.ConvTranspose2d(256, 128, kernel_size=4, stride=2, padding=1)\n",
        "    self.bn3 = nn.BatchNorm2d(128)\n",
        "    self.conv_trans4 = nn.ConvTranspose2d(128, 64, kernel_size=4, stride=2, padding=1)\n",
        "    self.bn4 = nn.BatchNorm2d(64)\n",
        "    self.conv_trans5 = nn.ConvTranspose2d(64, 32, kernel_size=3, stride=1, padding=1)\n",
        "    self.bn5 = nn.BatchNorm2d(32)\n",
        "    self.conv_final = nn.Conv2d(32, 3, kernel_size=3, stride=1, padding=1)\n",
        "\n",
        "    self.skip_conv1 = nn.Conv2d(512, 256, kernel_size=1, stride=1, padding=0)\n",
        "    self.skip_conv2 = nn.Conv2d(256, 128, kernel_size=1, stride=1, padding=0)\n",
        "    self.skip_conv3 = nn.Conv2d(128, 64, kernel_size=1, stride=1, padding=0)\n",
        "\n",
        "  def forward(self, z, condition):\n",
        "    x = torch.cat([z, condition], dim=-1)\n",
        "    x = self.fc(x)\n",
        "    x = x.view(-1, 1024, 4, 4)\n",
        "    x = F.relu(self.bn0(x))\n",
        "\n",
        "    x1 = self.conv_trans1(x)\n",
        "    x1 = F.relu(self.bn1(x1))\n",
        "\n",
        "    skip1 = F.interpolate(self.skip_conv1(x1), size=(16, 16), mode='bilinear', align_corners=False)\n",
        "    x2 = self.conv_trans2(x1)\n",
        "    x2 = x2 + skip1\n",
        "    x2 = F.relu(self.bn2(x2))\n",
        "\n",
        "    skip2 = F.interpolate(self.skip_conv2(x2), size=(32, 32), mode='bilinear', align_corners=False)\n",
        "    x3 = self.conv_trans3(x2)\n",
        "    x3 = x3 + skip2\n",
        "    x3 = F.relu(self.bn3(x3))\n",
        "\n",
        "    skip3 = F.interpolate(self.skip_conv3(x3), size=(64, 64), mode='bilinear', align_corners=False)\n",
        "    x4 = self.conv_trans4(x3)\n",
        "    x4 = x4 + skip3\n",
        "    x4 = F.relu(self.bn4(x4))\n",
        "\n",
        "    x5 = F.relu(self.bn5(self.conv_trans5(x4)))\n",
        "    x = torch.sigmoid(self.conv_final(x5))\n",
        "    return x"
      ],
      "metadata": {
        "id": "m4G9LEXSfD8t"
      },
      "execution_count": 6,
      "outputs": []
    },
    {
      "cell_type": "markdown",
      "source": [
        "CVAE model"
      ],
      "metadata": {
        "id": "h-U1HWuyuXTS"
      }
    },
    {
      "cell_type": "code",
      "source": [
        "\n",
        "class CVAE(nn.Module):\n",
        "  def __init__(self, latent_dim=20, condition_dim=192, output_channels=3):\n",
        "    super(CVAE, self).__init__()\n",
        "    self.latent_dim = latent_dim\n",
        "    self.condition_dim = condition_dim\n",
        "    self.output_channels = output_channels\n",
        "    self.encoder = Encoder(latent_dim=latent_dim, condition_dim=condition_dim)\n",
        "    self.decoder = Decoder(latent_dim=latent_dim, condition_dim=condition_dim)\n",
        "\n",
        "  def reparameterize(self, mu, logvar):\n",
        "    std = torch.exp(0.5 * logvar)\n",
        "    eps = torch.randn_like(std)\n",
        "    return mu + eps * std\n",
        "\n",
        "  def forward(self, x, y):\n",
        "    mu, logvar = self.encoder(y, x)\n",
        "    z = self.reparameterize(mu, logvar)\n",
        "    y_hat = self.decoder(z, x)\n",
        "    return y_hat, mu, logvar"
      ],
      "metadata": {
        "id": "nmFzN5nnubUu"
      },
      "execution_count": 7,
      "outputs": []
    },
    {
      "cell_type": "markdown",
      "source": [
        "Loss Function + Optimization."
      ],
      "metadata": {
        "id": "mjqCuOn-thiP"
      }
    },
    {
      "cell_type": "code",
      "source": [
        "def loss_function(x, x_hat, mu, logvar, beta=1.0): # elbo\n",
        "  reconstruction_loss = F.mse_loss(x_hat, x, reduction='sum') # (smaller is better) dissimilarity between X_hat(reconstructed) and X (original)\n",
        "  kl_div = -0.5 * torch.sum(1 + logvar - mu.pow(2) - logvar.exp()) # the dissimilarity of distribution between q(z|x) [output] and p(z) [real]\n",
        "  return reconstruction_loss + beta * kl_div\n",
        "def train_cvae(train_dataloader, test_loader, epochs=10, batch_size=16, learning_rate=0.001):\n",
        "  device = torch.device('cuda' if torch.cuda.is_available() else 'cpu')\n",
        "  model = CVAE(latent_dim=20, condition_dim=192).to(device)\n",
        "  optimizer = torch.optim.AdamW(model.parameters(), lr=learning_rate, weight_decay=0.01)\n",
        "  dataloader = train_dataloader\n",
        "\n",
        "  C_start = 0.5\n",
        "  C_end = 25\n",
        "  gamma = 1.5\n",
        "\n",
        "  for epoch in range(epochs):\n",
        "    total_loss = 0\n",
        "    C = C_start + (C_end - C_start) * epoch / (epochs - 1)\n",
        "    for batch in dataloader:\n",
        "      x = batch[0].to(device)  # [batch, 192]\n",
        "      y = batch[1].to(device)  # [batch, 3, 64, 64]\n",
        "\n",
        "      optimizer.zero_grad()\n",
        "      y_hat, mu, logvar = model(x, y)\n",
        "\n",
        "      loss = F.mse_loss(y_hat, y, reduction='sum') + gamma * abs(\n",
        "          -0.5 * torch.sum(1 + logvar - mu.pow(2) - logvar.exp()) - C\n",
        "      )\n",
        "      loss.backward()\n",
        "      optimizer.step()\n",
        "      total_loss += loss.item()\n",
        "    avg_test_loss = total_loss/len(dataloader)\n",
        "    print(f'Epoch {epoch+1}/{epochs}, Loss: {avg_test_loss:.4f}')\n",
        "\n",
        "  dataloader = test_loader\n",
        "  model.eval()\n",
        "  total_test_loss = 0\n",
        "  with torch.no_grad():\n",
        "    for batch in dataloader:\n",
        "        x = batch[0].to(device)\n",
        "        y = batch[1].to(device)\n",
        "        y_hat, mu, logvar = model(x, y)\n",
        "        loss = loss_function(y, y_hat, mu, logvar)\n",
        "        total_test_loss += loss.item()\n",
        "  avg_test_loss = total_test_loss / len(test_loader.dataset)\n",
        "  print(f'Test ELBO Loss: {avg_test_loss:.4f}')\n",
        "\n",
        "  return model"
      ],
      "metadata": {
        "id": "FtPxjoEXtSvP"
      },
      "execution_count": 8,
      "outputs": []
    },
    {
      "cell_type": "code",
      "source": [
        "trained_cvae = train_cvae(train_loader, test_loader, epochs=100, batch_size=16, learning_rate=0.001)"
      ],
      "metadata": {
        "colab": {
          "base_uri": "https://localhost:8080/"
        },
        "id": "Zos_c-qOuFio",
        "outputId": "3aa933b0-7be1-4dfc-8ec6-fd0ba324c8da"
      },
      "execution_count": 9,
      "outputs": [
        {
          "output_type": "stream",
          "name": "stdout",
          "text": [
            "Epoch 1/100, Loss: 9167.0602\n",
            "Epoch 2/100, Loss: 4154.1882\n",
            "Epoch 3/100, Loss: 3829.3290\n",
            "Epoch 4/100, Loss: 3640.1829\n",
            "Epoch 5/100, Loss: 3570.8288\n",
            "Epoch 6/100, Loss: 3518.9026\n",
            "Epoch 7/100, Loss: 3462.1421\n",
            "Epoch 8/100, Loss: 3432.5125\n",
            "Epoch 9/100, Loss: 3411.9911\n",
            "Epoch 10/100, Loss: 3373.9394\n",
            "Epoch 11/100, Loss: 3353.0018\n",
            "Epoch 12/100, Loss: 3338.4765\n",
            "Epoch 13/100, Loss: 3297.3938\n",
            "Epoch 14/100, Loss: 3301.7382\n",
            "Epoch 15/100, Loss: 3282.4105\n",
            "Epoch 16/100, Loss: 3266.4124\n",
            "Epoch 17/100, Loss: 3255.6854\n",
            "Epoch 18/100, Loss: 3228.2720\n",
            "Epoch 19/100, Loss: 3225.9743\n",
            "Epoch 20/100, Loss: 3211.1946\n",
            "Epoch 21/100, Loss: 3177.3754\n",
            "Epoch 22/100, Loss: 3121.6018\n",
            "Epoch 23/100, Loss: 3092.3891\n",
            "Epoch 24/100, Loss: 3034.6241\n",
            "Epoch 25/100, Loss: 3003.2444\n",
            "Epoch 26/100, Loss: 2962.9429\n",
            "Epoch 27/100, Loss: 2932.4311\n",
            "Epoch 28/100, Loss: 2910.6696\n",
            "Epoch 29/100, Loss: 2857.1016\n",
            "Epoch 30/100, Loss: 2813.5832\n",
            "Epoch 31/100, Loss: 2746.7170\n",
            "Epoch 32/100, Loss: 2695.5120\n",
            "Epoch 33/100, Loss: 2656.7713\n",
            "Epoch 34/100, Loss: 2638.6374\n",
            "Epoch 35/100, Loss: 2617.2573\n",
            "Epoch 36/100, Loss: 2604.9976\n",
            "Epoch 37/100, Loss: 2590.3275\n",
            "Epoch 38/100, Loss: 2574.3701\n",
            "Epoch 39/100, Loss: 2533.9606\n",
            "Epoch 40/100, Loss: 2522.3139\n",
            "Epoch 41/100, Loss: 2507.8259\n",
            "Epoch 42/100, Loss: 2515.1016\n",
            "Epoch 43/100, Loss: 2487.4658\n",
            "Epoch 44/100, Loss: 2469.3752\n",
            "Epoch 45/100, Loss: 2453.9246\n",
            "Epoch 46/100, Loss: 2399.9256\n",
            "Epoch 47/100, Loss: 2356.8763\n",
            "Epoch 48/100, Loss: 2310.1665\n",
            "Epoch 49/100, Loss: 2284.6495\n",
            "Epoch 50/100, Loss: 2261.9348\n",
            "Epoch 51/100, Loss: 2241.4985\n",
            "Epoch 52/100, Loss: 2227.0764\n",
            "Epoch 53/100, Loss: 2202.5430\n",
            "Epoch 54/100, Loss: 2178.7555\n",
            "Epoch 55/100, Loss: 2146.6776\n",
            "Epoch 56/100, Loss: 2135.3296\n",
            "Epoch 57/100, Loss: 2121.3196\n",
            "Epoch 58/100, Loss: 2080.7212\n",
            "Epoch 59/100, Loss: 2080.9931\n",
            "Epoch 60/100, Loss: 2067.2934\n",
            "Epoch 61/100, Loss: 2035.4945\n",
            "Epoch 62/100, Loss: 2016.4656\n",
            "Epoch 63/100, Loss: 2004.4289\n",
            "Epoch 64/100, Loss: 1982.8159\n",
            "Epoch 65/100, Loss: 1966.6128\n",
            "Epoch 66/100, Loss: 1951.6604\n",
            "Epoch 67/100, Loss: 1914.1503\n",
            "Epoch 68/100, Loss: 1919.0588\n",
            "Epoch 69/100, Loss: 1896.2518\n",
            "Epoch 70/100, Loss: 1896.1308\n",
            "Epoch 71/100, Loss: 1867.7027\n",
            "Epoch 72/100, Loss: 1860.6910\n",
            "Epoch 73/100, Loss: 1817.6769\n",
            "Epoch 74/100, Loss: 1825.8602\n",
            "Epoch 75/100, Loss: 1794.9764\n",
            "Epoch 76/100, Loss: 1807.5250\n",
            "Epoch 77/100, Loss: 1771.7091\n",
            "Epoch 78/100, Loss: 1736.3473\n",
            "Epoch 79/100, Loss: 1737.5391\n",
            "Epoch 80/100, Loss: 1738.8304\n",
            "Epoch 81/100, Loss: 1733.5713\n",
            "Epoch 82/100, Loss: 1688.7952\n",
            "Epoch 83/100, Loss: 1702.5089\n",
            "Epoch 84/100, Loss: 1683.1299\n",
            "Epoch 85/100, Loss: 1669.0428\n",
            "Epoch 86/100, Loss: 1662.1535\n",
            "Epoch 87/100, Loss: 1644.4957\n",
            "Epoch 88/100, Loss: 1623.2262\n",
            "Epoch 89/100, Loss: 1623.6949\n",
            "Epoch 90/100, Loss: 1616.4170\n",
            "Epoch 91/100, Loss: 1612.8773\n",
            "Epoch 92/100, Loss: 1594.6463\n",
            "Epoch 93/100, Loss: 1581.8127\n",
            "Epoch 94/100, Loss: 1548.6160\n",
            "Epoch 95/100, Loss: 1557.3547\n",
            "Epoch 96/100, Loss: 1569.4647\n",
            "Epoch 97/100, Loss: 1547.7675\n",
            "Epoch 98/100, Loss: 1527.9332\n",
            "Epoch 99/100, Loss: 1510.8552\n",
            "Epoch 100/100, Loss: 1508.0217\n",
            "Test ELBO Loss: 40.7135\n"
          ]
        }
      ]
    },
    {
      "cell_type": "markdown",
      "source": [
        "Generation Visualization"
      ],
      "metadata": {
        "id": "hzIF9MFzC54Q"
      }
    },
    {
      "cell_type": "code",
      "source": [
        "import matplotlib.pyplot as plt\n",
        "def set_seed(seed):\n",
        "  torch.manual_seed(seed)\n",
        "  torch.cuda.manual_seed_all(seed)  # For CUDA (if applicable)\n",
        "  np.random.seed(seed)\n",
        "  torch.backends.cudnn.deterministic = True  # Ensure deterministic behavior\n",
        "  torch.backends.cudnn.benchmark = False\n",
        "def interpolate_images(decoder, z1, z2, condition, num_steps=10, device='cpu'):\n",
        "  decoder.eval()\n",
        "  interpolated_images = []\n",
        "  with torch.no_grad():\n",
        "    for alpha in torch.linspace(0, 1, num_steps).to(device):\n",
        "      z_interp = (1 - alpha) * z1 + alpha * z2  # [batch_size, 20]\n",
        "      x_interp = decoder(z_interp, condition)  # [batch_size, 3, 64, 64]\n",
        "      interpolated_images.append(x_interp)\n",
        "  return torch.stack(interpolated_images)  # [num_steps, batch_size, 3, 64, 64]\n",
        "\n",
        "def plot_interpolated_images(interpolated_images):\n",
        "  interpolated_images = interpolated_images.cpu().numpy()  # [num_steps, batch_size, 3, 64, 64]\n",
        "  num_steps, batch_size = interpolated_images.shape[0], interpolated_images.shape[1]\n",
        "  fig, axes = plt.subplots(batch_size, num_steps, figsize=(num_steps * 2, batch_size * 2))\n",
        "  num_cols = 3\n",
        "  num_rows = 4\n",
        "  fig, axes = plt.subplots(num_rows, num_cols, figsize=(num_cols * 3, num_rows * 3))  # Adjust figure size\n",
        "  axes = axes.ravel() if num_rows * num_cols > 1 else [axes]\n",
        "  for i in range(batch_size):\n",
        "    for j in range(num_steps):\n",
        "      idx = i * num_cols + j\n",
        "      if idx < len(axes):\n",
        "        ax = axes[idx]\n",
        "        img = interpolated_images[j, i].transpose(1, 2, 0)  # [64, 64, 3]\n",
        "        ax.imshow(img)  # Plot the image\n",
        "        ax.axis('off')\n",
        "        if i == 0:\n",
        "          ax.set_title(f'α={j/(num_steps-1):.2f}')\n",
        "  for idx in range(batch_size * num_cols, len(axes)):\n",
        "    axes[idx].axis('off')\n",
        "  plt.tight_layout()\n",
        "  plt.show()\n",
        "def test_train_and_interpolate(train_loader, trained_cvae):\n",
        "  set_seed(42)\n",
        "  device = torch.device(\"cuda\" if torch.cuda.is_available() else \"cpu\")\n",
        "  latent_dim = 20\n",
        "\n",
        "  # trained decoder\n",
        "  decoder = trained_cvae.decoder\n",
        "\n",
        "  # random z1, z2 with fixed x\n",
        "  z1 = torch.randn(1, latent_dim).to(device)  # [1, 20]\n",
        "  z2 = torch.randn(1, latent_dim).to(device)  # [1, 20]\n",
        "  # get condition from dataset\n",
        "  data_iter = iter(train_loader)\n",
        "  x1, y1 = next(data_iter)  # x1: [batch_size, 192], y1: [batch_size, 3, 64, 64]\n",
        "  condition = x1[:1].to(device)  # [1, 192]\n",
        "  print(\"Interpolating from random z1, z2 with condition x1:\")\n",
        "  interpolated_images = interpolate_images(decoder, z1, z2, condition, num_steps=10, device=device)\n",
        "  print(f\"Interpolated images shape: {interpolated_images.shape}\")\n",
        "  plot_interpolated_images(interpolated_images)\n",
        "\n",
        "  # databased z1, z2\n",
        "  x1, y1 = x1[:1].to(device), y1[:1].to(device)  # [1, 192], [1, 3, 64, 64]\n",
        "  x2, y2 = next(data_iter)\n",
        "  x2, y2 = x2[:1].to(device), y2[:1].to(device)  # [1, 192], [1, 3, 64, 64]\n",
        "\n",
        "  mu1, logvar1 = trained_cvae.encoder(y1, x1)  # y1 is img，x1 is condition\n",
        "  z1_data = trained_cvae.reparameterize(mu1, logvar1)\n",
        "  mu2, logvar2 = trained_cvae.encoder(y2, x2)  # y2 is img，x2 is condition\n",
        "  z2_data = trained_cvae.reparameterize(mu2, logvar2)\n",
        "  print(\"Interpolating from data-derived z1, z2 with condition x1:\")\n",
        "  interpolated_images_data = interpolate_images(decoder, z1_data, z2_data, condition, num_steps=10, device=device)\n",
        "  print(f\"Interpolated images shape: {interpolated_images_data.shape}\")\n",
        "  plot_interpolated_images(interpolated_images_data)\n"
      ],
      "metadata": {
        "id": "CK7DWiEy5jKq"
      },
      "execution_count": 10,
      "outputs": []
    },
    {
      "cell_type": "code",
      "source": [
        "test_train_and_interpolate(train_loader, trained_cvae)"
      ],
      "metadata": {
        "colab": {
          "base_uri": "https://localhost:8080/",
          "height": 1000
        },
        "id": "cY18pUdr5scX",
        "outputId": "f9811513-0f90-4be0-851b-ce440493cc5b"
      },
      "execution_count": 11,
      "outputs": [
        {
          "output_type": "stream",
          "name": "stdout",
          "text": [
            "Interpolating from random z1, z2 with condition x1:\n",
            "Interpolated images shape: torch.Size([10, 1, 3, 64, 64])\n"
          ]
        },
        {
          "output_type": "display_data",
          "data": {
            "text/plain": [
              "<Figure size 2000x200 with 10 Axes>"
            ],
            "image/png": "[encoded data removed]"
          },
          "metadata": {}
        },
        {
          "output_type": "display_data",
          "data": {
            "text/plain": [
              "<Figure size 900x1200 with 12 Axes>"
            ],
            "image/png": "[encoded data removed]"
          },
          "metadata": {}
        },
        {
          "output_type": "stream",
          "name": "stdout",
          "text": [
            "Interpolating from data-derived z1, z2 with condition x1:\n",
            "Interpolated images shape: torch.Size([10, 1, 3, 64, 64])\n"
          ]
        },
        {
          "output_type": "display_data",
          "data": {
            "text/plain": [
              "<Figure size 2000x200 with 10 Axes>"
            ],
            "image/png": "[encoded data removed]"
          },
          "metadata": {}
        },
        {
          "output_type": "display_data",
          "data": {
            "text/plain": [
              "<Figure size 900x1200 with 12 Axes>"
            ],
            "image/png": "[encoded data removed]"
          },
          "metadata": {}
        }
      ]
    }
  ]
}